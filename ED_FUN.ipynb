{
 "cells": [
  {
   "cell_type": "markdown",
   "metadata": {},
   "source": [
    "##Написать функцию, которой можно передавать аргументы либо списком/кортежем, либо по одному. Функция производит суммирование всех аргументов."
   ]
  },
  {
   "cell_type": "code",
   "execution_count": 1,
   "metadata": {
    "collapsed": true
   },
   "outputs": [],
   "source": [
    "from collections import Iterable\n",
    "def f(*argv):\n",
    "    \"\"\"\n",
    "    >>> f(1, 2, 3)\n",
    "    6\n",
    "    >>> f([1, 2, 3])\n",
    "    6\n",
    "    >>> f((3, 5, 6))\n",
    "    14\n",
    "    >>> f(3, (5, 6))\n",
    "    14\n",
    "    >>> f(1, (2, (3, (4, (5, (6, (7, (8, (9, 10)))))))))\n",
    "    55\n",
    "    \"\"\"\n",
    "    result = 0\n",
    "    for n in argv:\n",
    "        if hasattr(n, \"__iter__\"):\n",
    "            result += f(*n)\n",
    "        else:\n",
    "            result += n\n",
    "    return result"
   ]
  },
  {
   "cell_type": "markdown",
   "metadata": {},
   "source": [
    "##Написать функцию-фабрику, которая будет возвращать функцию сложения с аргументом."
   ]
  },
  {
   "cell_type": "code",
   "execution_count": 2,
   "metadata": {
    "collapsed": true
   },
   "outputs": [],
   "source": [
    "def addition_with_inner_func(a):\n",
    "    \"\"\" \n",
    "    >>> addition_with_inner_func(8)(2)\n",
    "    10\n",
    "    >>> addition_with_inner_func(0)(5)\n",
    "    5\n",
    "    >>> addition_with_inner_func(5)(4)\n",
    "    9\n",
    "    >>> addition_with_inner_func(-2)(2)\n",
    "    0\n",
    "    \"\"\"\n",
    "    def inner(b):\n",
    "        return a + b\n",
    "    return inner"
   ]
  },
  {
   "cell_type": "code",
   "execution_count": 3,
   "metadata": {
    "collapsed": true
   },
   "outputs": [],
   "source": [
    "def addition_with_lambda(a):\n",
    "    \"\"\" \n",
    "    >>> addition_with_lambda(8)(2)\n",
    "    10\n",
    "    >>> addition_with_lambda(0)(5)\n",
    "    5\n",
    "    >>> addition_with_lambda(5)(4)\n",
    "    9\n",
    "    >>> addition_with_lambda(-2)(2)\n",
    "    0\n",
    "    \"\"\"\n",
    "    return lambda b: a + b"
   ]
  },
  {
   "cell_type": "markdown",
   "metadata": {},
   "source": [
    "##Написать фабрику, аналогичную п.2, но возвращающей список таких функций."
   ]
  },
  {
   "cell_type": "code",
   "execution_count": 4,
   "metadata": {
    "collapsed": true
   },
   "outputs": [],
   "source": [
    "def addition_range(start, stop):\n",
    "    \"\"\"\n",
    "    >>> [addn(1) for addn in addition_range(0, 10)]\n",
    "    [1, 2, 3, 4, 5, 6, 7, 8, 9, 10, 11]\n",
    "    \"\"\"\n",
    "    return [addition_with_lambda(a) for a in range(start, stop + 1)]"
   ]
  },
  {
   "cell_type": "raw",
   "metadata": {},
   "source": [
    "# Написать аналог map.\n",
    "Написать аналог map:\n",
    "— первым аргументом идет либо функция, либо список функций\n",
    "— вторым аргументом — список аргументов, которые будут переданы функциям\n",
    "— полагается, что эти функции — функции одного аргумента"
   ]
  },
  {
   "cell_type": "code",
   "execution_count": 5,
   "metadata": {
    "collapsed": true
   },
   "outputs": [],
   "source": [
    "def mymap(funcs, args):\n",
    "    \"\"\"\n",
    "    >>> mymap([], [])\n",
    "    []\n",
    "    >>> mymap(addition_range(0, 2), [1, 2, 3])\n",
    "    [(1, 2, 3), (2, 3, 4), (3, 4, 5)]\n",
    "    >>> mymap(addition_with_lambda(2), [0, 1, 2])\n",
    "    [2, 3, 4]\n",
    "    \"\"\"\n",
    "    if isinstance(funcs,Iterable):\n",
    "        return [tuple(func(arg) for arg in args) for func in funcs]\n",
    "    else:\n",
    "        return [funcs(arg) for arg in args]"
   ]
  },
  {
   "cell_type": "markdown",
   "metadata": {},
   "source": [
    "Доктест"
   ]
  },
  {
   "cell_type": "code",
   "execution_count": 6,
   "metadata": {
    "collapsed": false
   },
   "outputs": [
    {
     "name": "stdout",
     "output_type": "stream",
     "text": [
      "Trying:\n",
      "    [addn(1) for addn in addition_range(0, 10)]\n",
      "Expecting:\n",
      "    [1, 2, 3, 4, 5, 6, 7, 8, 9, 10, 11]\n",
      "ok\n",
      "Trying:\n",
      "    addition_with_inner_func(8)(2)\n",
      "Expecting:\n",
      "    10\n",
      "ok\n",
      "Trying:\n",
      "    addition_with_inner_func(0)(5)\n",
      "Expecting:\n",
      "    5\n",
      "ok\n",
      "Trying:\n",
      "    addition_with_inner_func(5)(4)\n",
      "Expecting:\n",
      "    9\n",
      "ok\n",
      "Trying:\n",
      "    addition_with_inner_func(-2)(2)\n",
      "Expecting:\n",
      "    0\n",
      "ok\n",
      "Trying:\n",
      "    addition_with_lambda(8)(2)\n",
      "Expecting:\n",
      "    10\n",
      "ok\n",
      "Trying:\n",
      "    addition_with_lambda(0)(5)\n",
      "Expecting:\n",
      "    5\n",
      "ok\n",
      "Trying:\n",
      "    addition_with_lambda(5)(4)\n",
      "Expecting:\n",
      "    9\n",
      "ok\n",
      "Trying:\n",
      "    addition_with_lambda(-2)(2)\n",
      "Expecting:\n",
      "    0\n",
      "ok\n",
      "Trying:\n",
      "    f(1, 2, 3)\n",
      "Expecting:\n",
      "    6\n",
      "ok\n",
      "Trying:\n",
      "    f([1, 2, 3])\n",
      "Expecting:\n",
      "    6\n",
      "ok\n",
      "Trying:\n",
      "    f((3, 5, 6))\n",
      "Expecting:\n",
      "    14\n",
      "ok\n",
      "Trying:\n",
      "    f(3, (5, 6))\n",
      "Expecting:\n",
      "    14\n",
      "ok\n",
      "Trying:\n",
      "    f(1, (2, (3, (4, (5, (6, (7, (8, (9, 10)))))))))\n",
      "Expecting:\n",
      "    55\n",
      "ok\n",
      "Trying:\n",
      "    mymap([], [])\n",
      "Expecting:\n",
      "    []\n",
      "ok\n",
      "Trying:\n",
      "    mymap(addition_range(0, 2), [1, 2, 3])\n",
      "Expecting:\n",
      "    [(1, 2, 3), (2, 3, 4), (3, 4, 5)]\n",
      "ok\n",
      "Trying:\n",
      "    mymap(addition_with_lambda(2), [0, 1, 2])\n",
      "Expecting:\n",
      "    [2, 3, 4]\n",
      "ok\n",
      "1 items had no tests:\n",
      "    __main__\n",
      "5 items passed all tests:\n",
      "   1 tests in __main__.addition_range\n",
      "   4 tests in __main__.addition_with_inner_func\n",
      "   4 tests in __main__.addition_with_lambda\n",
      "   5 tests in __main__.f\n",
      "   3 tests in __main__.mymap\n",
      "17 tests in 6 items.\n",
      "17 passed and 0 failed.\n",
      "Test passed.\n"
     ]
    },
    {
     "data": {
      "text/plain": [
       "TestResults(failed=0, attempted=17)"
      ]
     },
     "execution_count": 6,
     "metadata": {},
     "output_type": "execute_result"
    }
   ],
   "source": [
    "import doctest\n",
    "doctest.testmod(verbose=True)"
   ]
  },
  {
   "cell_type": "code",
   "execution_count": null,
   "metadata": {
    "collapsed": true
   },
   "outputs": [],
   "source": []
  }
 ],
 "metadata": {
  "kernelspec": {
   "display_name": "Python 2",
   "language": "python",
   "name": "python2"
  },
  "language_info": {
   "codemirror_mode": {
    "name": "ipython",
    "version": 2
   },
   "file_extension": ".py",
   "mimetype": "text/x-python",
   "name": "python",
   "nbconvert_exporter": "python",
   "pygments_lexer": "ipython2",
   "version": "2.7.9"
  }
 },
 "nbformat": 4,
 "nbformat_minor": 0
}
