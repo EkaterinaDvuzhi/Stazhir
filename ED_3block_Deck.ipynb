{
 "cells": [
  {
   "cell_type": "markdown",
   "metadata": {},
   "source": [
    "Написать декоратор,который считает время выполнения функции"
   ]
  },
  {
   "cell_type": "code",
   "execution_count": 8,
   "metadata": {
    "collapsed": false
   },
   "outputs": [
    {
     "name": "stdout",
     "output_type": "stream",
     "text": [
      "Время выполнения функции: 0.000005\n"
     ]
    },
    {
     "data": {
      "text/plain": [
       "390625"
      ]
     },
     "execution_count": 8,
     "metadata": {},
     "output_type": "execute_result"
    }
   ],
   "source": [
    "import time\n",
    "\n",
    "def functime(func):\n",
    "    def test(*args):\n",
    "        st=time.clock()\n",
    "        res=func(*args)\n",
    "        en=time.clock()\n",
    "        print \"Время выполнения функции: %f\" % (en-st)\n",
    "        return res\n",
    "    return test\n",
    "\n",
    "@functime\n",
    "def newtest(n):\n",
    "    return ((n ** 2) ** 2) ** 2\n",
    "\n",
    "newtest(5)"
   ]
  },
  {
   "cell_type": "markdown",
   "metadata": {},
   "source": [
    "Написать декоратор,добавляющий к докстрингам фразу \"I'm was here\""
   ]
  },
  {
   "cell_type": "code",
   "execution_count": 12,
   "metadata": {
    "collapsed": false
   },
   "outputs": [
    {
     "name": "stdout",
     "output_type": "stream",
     "text": [
      "Help on function rez in module __main__:\n",
      "\n",
      "rez(x)\n",
      "    I was here\n",
      "\n"
     ]
    }
   ],
   "source": [
    "def plus(func):\n",
    "    if hasattr(func.__doc__, \"__len__\"):\n",
    "    #hassatr 1=если совпад с именем атр\n",
    "        func.__doc__ += \"\\n I was here\"\n",
    "    else:\n",
    "        func.__doc__ = \"\\n I was here\"\n",
    "    return func\n",
    "\n",
    "@plus\n",
    "def rez(x):\n",
    "    return x+3\n",
    "\n",
    "help(rez)"
   ]
  },
  {
   "cell_type": "code",
   "execution_count": 19,
   "metadata": {
    "collapsed": false
   },
   "outputs": [
    {
     "name": "stdout",
     "output_type": "stream",
     "text": [
      "Help on function nrez in module __main__:\n",
      "\n",
      "nrez(n)\n",
      "    Text\n",
      "    I was here\n",
      "\n"
     ]
    }
   ],
   "source": [
    "@plus\n",
    "def nrez(n):\n",
    "    \"\"\"Text\"\"\"\n",
    "    return n+1\n",
    "\n",
    "help(nrez)"
   ]
  },
  {
   "cell_type": "markdown",
   "metadata": {},
   "source": [
    "Написать два декоратора: @accepts(int,float) - принимает набор типов и проверяет, что входные параметры декорируемой функции соответствуют этим типам. @returns(int,float) - принимает набор типов и проверяет, что результат работы функции соответствует этим типам."
   ]
  },
  {
   "cell_type": "code",
   "execution_count": 3,
   "metadata": {
    "collapsed": false
   },
   "outputs": [
    {
     "name": "stdout",
     "output_type": "stream",
     "text": [
      "Аргумент 5 принадлежит набору (<type 'int'>, <type 'float'>)\n",
      "Аргумент 6 принадлежит набору (<type 'int'>, <type 'float'>)\n"
     ]
    },
    {
     "data": {
      "text/plain": [
       "11"
      ]
     },
     "execution_count": 3,
     "metadata": {},
     "output_type": "execute_result"
    }
   ],
   "source": [
    "def accepts(*types):\n",
    "    def faccepts(fun):\n",
    "        def testarg(*args):\n",
    "            for i in args:\n",
    "                if isinstance(i,types):\n",
    "                    print \"Аргумент %s принадлежит набору %s\" %(str(i),types)\n",
    "                else:\n",
    "                    print \"Аргумент %s не принадлежит набору %s\" %(str(i),types)\n",
    "            return fun(*args)\n",
    "        return testarg\n",
    "    return faccepts\n",
    "    \n",
    "@accepts(int, float)\n",
    "def fool(a,b):\n",
    "    return a+b\n",
    "\n",
    "fool(5,6)"
   ]
  },
  {
   "cell_type": "code",
   "execution_count": 6,
   "metadata": {
    "collapsed": false
   },
   "outputs": [
    {
     "name": "stdout",
     "output_type": "stream",
     "text": [
      "Результат функции 5 принадлежит переданному набору типов (<type 'int'>, <type 'float'>)\n"
     ]
    },
    {
     "data": {
      "text/plain": [
       "5"
      ]
     },
     "execution_count": 6,
     "metadata": {},
     "output_type": "execute_result"
    }
   ],
   "source": [
    "def returns(*types):\n",
    "    def into_accepts(test_func):\n",
    "        def test(*args):\n",
    "            res = test_func(*args)\n",
    "            if isinstance(res, types):\n",
    "                print \"Результат функции %s принадлежит набору  %s\" % (str(res), types)\n",
    "            else:\n",
    "                print \"Результат функции %s не принадлежит набору %s\" % (str(res), types)\n",
    "            return res\n",
    "        return test\n",
    "    return into_accepts\n",
    "\n",
    "@returns(int, float)\n",
    "def summ(a, b):\n",
    "    return a + b\n",
    "\n",
    "summ(1, 4)"
   ]
  },
  {
   "cell_type": "code",
   "execution_count": null,
   "metadata": {
    "collapsed": true
   },
   "outputs": [],
   "source": []
  }
 ],
 "metadata": {
  "kernelspec": {
   "display_name": "Python 2",
   "language": "python",
   "name": "python2"
  },
  "language_info": {
   "codemirror_mode": {
    "name": "ipython",
    "version": 2
   },
   "file_extension": ".py",
   "mimetype": "text/x-python",
   "name": "python",
   "nbconvert_exporter": "python",
   "pygments_lexer": "ipython2",
   "version": "2.7.9"
  }
 },
 "nbformat": 4,
 "nbformat_minor": 0
}
